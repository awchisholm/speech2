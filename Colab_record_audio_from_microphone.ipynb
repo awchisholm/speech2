{
  "nbformat": 4,
  "nbformat_minor": 0,
  "metadata": {
    "colab": {
      "name": "Colab record audio from microphone",
      "provenance": [],
      "collapsed_sections": [],
      "include_colab_link": true
    },
    "kernelspec": {
      "name": "python3",
      "display_name": "Python 3"
    }
  },
  "cells": [
    {
      "cell_type": "markdown",
      "metadata": {
        "id": "view-in-github",
        "colab_type": "text"
      },
      "source": [
        "<a href=\"https://colab.research.google.com/github/awchisholm/speech2/blob/master/Colab_record_audio_from_microphone.ipynb\" target=\"_parent\"><img src=\"https://colab.research.google.com/assets/colab-badge.svg\" alt=\"Open In Colab\"/></a>"
      ]
    },
    {
      "cell_type": "code",
      "source": [
        "!pip install pydub SpeechRecognition"
      ],
      "metadata": {
        "id": "qY0bVuLGX9WE"
      },
      "execution_count": null,
      "outputs": []
    },
    {
      "cell_type": "code",
      "metadata": {
        "id": "cJzzZeUrH-oT"
      },
      "source": [
        "# all imports\n",
        "from io import BytesIO\n",
        "from base64 import b64decode\n",
        "from google.colab import output\n",
        "from IPython.display import Javascript\n",
        "\n",
        "RECORD = \"\"\"\n",
        "const sleep  = time => new Promise(resolve => setTimeout(resolve, time))\n",
        "const b2text = blob => new Promise(resolve => {\n",
        "  const reader = new FileReader()\n",
        "  reader.onloadend = e => resolve(e.srcElement.result)\n",
        "  reader.readAsDataURL(blob)\n",
        "})\n",
        "var record = time => new Promise(async resolve => {\n",
        "  stream = await navigator.mediaDevices.getUserMedia({ audio: true })\n",
        "  recorder = new MediaRecorder(stream)\n",
        "  chunks = []\n",
        "  recorder.ondataavailable = e => chunks.push(e.data)\n",
        "  recorder.start()\n",
        "  await sleep(time)\n",
        "  recorder.onstop = async ()=>{\n",
        "    blob = new Blob(chunks)\n",
        "    text = await b2text(blob)\n",
        "    resolve(text)\n",
        "  }\n",
        "  recorder.stop()\n",
        "})\n",
        "\"\"\"\n",
        "\n",
        "def record(sec=3):\n",
        "  print(\"Speak Now...\")\n",
        "  display(Javascript(RECORD))\n",
        "  sec += 1\n",
        "  s = output.eval_js('record(%d)' % (sec*1000))\n",
        "  print(\"Done Recording !\")\n",
        "  b = b64decode(s.split(',')[1])\n",
        "  return b #byte stream"
      ],
      "execution_count": 1,
      "outputs": []
    },
    {
      "cell_type": "code",
      "metadata": {
        "id": "mxZjOYDeIB29"
      },
      "source": [
        "audio = record(5) "
      ],
      "execution_count": null,
      "outputs": []
    },
    {
      "cell_type": "code",
      "metadata": {
        "id": "PKLGVyNeIHvs"
      },
      "source": [
        "import IPython.display as ipd\n",
        "ipd.display(ipd.Audio(audio))"
      ],
      "execution_count": null,
      "outputs": []
    },
    {
      "cell_type": "code",
      "source": [
        "with open('myfile.wav', mode='bx') as f:\n",
        "    f.write(audio)"
      ],
      "metadata": {
        "id": "xLaif2ihg_fo"
      },
      "execution_count": 41,
      "outputs": []
    },
    {
      "cell_type": "code",
      "metadata": {
        "id": "YBtrKh2yIp3d",
        "colab": {
          "base_uri": "https://localhost:8080/"
        },
        "outputId": "3436b599-a613-42f9-8b6f-3dcc1035e7e0"
      },
      "source": [
        "type(audio)"
      ],
      "execution_count": 43,
      "outputs": [
        {
          "output_type": "execute_result",
          "data": {
            "text/plain": [
              "bytes"
            ]
          },
          "metadata": {},
          "execution_count": 43
        }
      ]
    },
    {
      "cell_type": "code",
      "source": [
        "audio[0:1]"
      ],
      "metadata": {
        "colab": {
          "base_uri": "https://localhost:8080/"
        },
        "id": "4dOGYOqDqsqc",
        "outputId": "7d4ae1f3-8aa6-4ade-a537-081c53543122"
      },
      "execution_count": 55,
      "outputs": [
        {
          "output_type": "execute_result",
          "data": {
            "text/plain": [
              "b'\\x1a'"
            ]
          },
          "metadata": {},
          "execution_count": 55
        }
      ]
    },
    {
      "cell_type": "code",
      "source": [
        "import io\n",
        "from pydub import AudioSegment\n",
        "#s = io.BytesIO(audio)\n",
        "#aa = AudioSegment.from_raw(s, sample_width=2, frame_rate=44100, channels=1).export('a.wav', format='wav')\n",
        "#aa = AudioSegment(audio, sample_width=2, frame_rate=44100, channels=1).export('a.wav', format='wav')\n",
        "audio_obj = AudioSegment(audio, sample_width=1, frame_rate=48000, channels=1)\n",
        "aa = audio_obj.export('b.wav', format='wav')"
      ],
      "metadata": {
        "id": "FRLGXBH1t0b4"
      },
      "execution_count": 48,
      "outputs": []
    },
    {
      "cell_type": "code",
      "source": [
        "import wave\n",
        "with wave.open(\"myaudiofile.wav\", \"wb\") as audiofile:\n",
        " audiofile.setsampwidth(2)\n",
        " audiofile.setnchannels(1)\n",
        " audiofile.setframerate(44100)\n",
        " audiofile.writeframes(audio)"
      ],
      "metadata": {
        "id": "wEI3B5UxcQws"
      },
      "execution_count": 37,
      "outputs": []
    },
    {
      "cell_type": "code",
      "source": [
        "print(audio_obj)"
      ],
      "metadata": {
        "id": "nxT9I4pzep-_"
      },
      "execution_count": null,
      "outputs": []
    },
    {
      "cell_type": "code",
      "source": [
        "type(audio_obj)"
      ],
      "metadata": {
        "id": "n0KZW_oSg_eh"
      },
      "execution_count": null,
      "outputs": []
    },
    {
      "cell_type": "code",
      "metadata": {
        "id": "FerFnHURfCuP"
      },
      "source": [
        "#!pip install SpeechRecognition pydub\n",
        "import speech_recognition as sr\n",
        "filename = 'myaudiofile.wav'\n",
        "r = sr.Recognizer()\n",
        "with sr.AudioFile(filename) as source:\n",
        "    # listen for the data (load audio to memory)\n",
        "    audio_data = r.record(source)\n",
        "    # recognize (convert from speech to text)\n",
        "    text = r.recognize_google(audio_data)\n",
        "    print(text)\n"
      ],
      "execution_count": null,
      "outputs": []
    },
    {
      "cell_type": "code",
      "source": [
        "text = r.recognize_google(audio_data)\n",
        "print(text)"
      ],
      "metadata": {
        "id": "VEELWVRiiQ13"
      },
      "execution_count": null,
      "outputs": []
    },
    {
      "cell_type": "code",
      "source": [
        "from sys import byteorder\n",
        "import soundfile as sf\n",
        "with sf.SoundFile('myfile.wav', 'w', samplerate=44100, channels=1) as f:\n",
        "  f.write(int.from_bytes(audio, byteorder=1))"
      ],
      "metadata": {
        "id": "ooHmfRnEjph4"
      },
      "execution_count": null,
      "outputs": []
    }
  ]
}